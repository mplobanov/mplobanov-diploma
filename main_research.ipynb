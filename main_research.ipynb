{
 "cells": [
  {
   "cell_type": "markdown",
   "id": "b4618199",
   "metadata": {},
   "source": [
    "# Обработка данных"
   ]
  },
  {
   "cell_type": "code",
   "execution_count": 113,
   "id": "a0a74ac9",
   "metadata": {},
   "outputs": [
    {
     "name": "stdout",
     "output_type": "stream",
     "text": [
      "env: RESULT_PATH=/Users/mplobanov/Downloads/diploma/results\n"
     ]
    }
   ],
   "source": [
    "%env RESULT_PATH=/Users/mplobanov/Downloads/diploma/results"
   ]
  },
  {
   "cell_type": "code",
   "execution_count": 114,
   "id": "a26536e1",
   "metadata": {},
   "outputs": [],
   "source": [
    "from os import listdir, environ\n",
    "from os.path import isfile, join\n",
    "PATH = environ['RESULT_PATH']\n",
    "onlyfiles = [f for f in listdir(PATH) if isfile(join(PATH, f))]"
   ]
  },
  {
   "cell_type": "code",
   "execution_count": 115,
   "id": "d2cc4aab",
   "metadata": {},
   "outputs": [],
   "source": [
    "import json\n",
    "data_pieces = []\n",
    "for path in onlyfiles:\n",
    "    with open(f\"{PATH}/{path}\", 'r') as fin:\n",
    "        data = json.load(fin)\n",
    "        for key in ['N', 'M', 'K', 'type', 'trials']:\n",
    "            data[key] = [data[key] for _ in range(data['trials'])]\n",
    "        data_pieces.append(data)"
   ]
  },
  {
   "cell_type": "code",
   "execution_count": 116,
   "id": "be3d5642",
   "metadata": {},
   "outputs": [],
   "source": [
    "import pandas as pd"
   ]
  },
  {
   "cell_type": "code",
   "execution_count": 117,
   "id": "1d3f6f03",
   "metadata": {},
   "outputs": [],
   "source": [
    "data = pd.concat([pd.DataFrame(piece) for piece in data_pieces])"
   ]
  },
  {
   "cell_type": "code",
   "execution_count": 118,
   "id": "0a696aa3",
   "metadata": {},
   "outputs": [],
   "source": [
    "data = data.reset_index().drop(columns='index')"
   ]
  },
  {
   "cell_type": "code",
   "execution_count": 119,
   "id": "7601400b",
   "metadata": {},
   "outputs": [],
   "source": [
    "data['volume'] = data['N'] * data['M'] * data['K']"
   ]
  },
  {
   "cell_type": "code",
   "execution_count": 120,
   "id": "93a1ec78",
   "metadata": {},
   "outputs": [],
   "source": [
    "data.to_csv('data/data1.csv')"
   ]
  },
  {
   "cell_type": "code",
   "execution_count": 68,
   "id": "b82e4725",
   "metadata": {},
   "outputs": [
    {
     "data": {
      "text/plain": [
       "91.60000002384186"
      ]
     },
     "execution_count": 68,
     "metadata": {},
     "output_type": "execute_result"
    }
   ],
   "source": [
    "data.loc[0, 'times']"
   ]
  },
  {
   "cell_type": "code",
   "execution_count": 64,
   "id": "b1477f37",
   "metadata": {},
   "outputs": [],
   "source": [
    "import statsmodels.api as sm\n",
    "import numpy as np"
   ]
  },
  {
   "cell_type": "code",
   "execution_count": 71,
   "id": "a2faf344",
   "metadata": {},
   "outputs": [],
   "source": [
    "from scipy.stats import shapiro "
   ]
  },
  {
   "cell_type": "markdown",
   "id": "6461ce48",
   "metadata": {},
   "source": [
    "Проверим выборки на нормальность:"
   ]
  },
  {
   "cell_type": "code",
   "execution_count": 80,
   "id": "318140a5",
   "metadata": {
    "scrolled": true
   },
   "outputs": [
    {
     "data": {
      "text/html": [
       "<div>\n",
       "<style scoped>\n",
       "    .dataframe tbody tr th:only-of-type {\n",
       "        vertical-align: middle;\n",
       "    }\n",
       "\n",
       "    .dataframe tbody tr th {\n",
       "        vertical-align: top;\n",
       "    }\n",
       "\n",
       "    .dataframe thead th {\n",
       "        text-align: right;\n",
       "    }\n",
       "</style>\n",
       "<table border=\"1\" class=\"dataframe\">\n",
       "  <thead>\n",
       "    <tr style=\"text-align: right;\">\n",
       "      <th>type</th>\n",
       "      <th>plain-js</th>\n",
       "      <th>tf-cpu</th>\n",
       "      <th>tf-wasm</th>\n",
       "      <th>tf-webgl</th>\n",
       "      <th>tf-webgpu</th>\n",
       "    </tr>\n",
       "    <tr>\n",
       "      <th>volume</th>\n",
       "      <th></th>\n",
       "      <th></th>\n",
       "      <th></th>\n",
       "      <th></th>\n",
       "      <th></th>\n",
       "    </tr>\n",
       "  </thead>\n",
       "  <tbody>\n",
       "    <tr>\n",
       "      <th>1000000</th>\n",
       "      <td>1.369649e-17</td>\n",
       "      <td>9.034100e-21</td>\n",
       "      <td>1.307299e-19</td>\n",
       "      <td>5.321905e-17</td>\n",
       "      <td>1.441621e-15</td>\n",
       "    </tr>\n",
       "    <tr>\n",
       "      <th>125000000</th>\n",
       "      <td>9.909291e-08</td>\n",
       "      <td>2.295846e-11</td>\n",
       "      <td>1.359756e-03</td>\n",
       "      <td>2.056285e-12</td>\n",
       "      <td>2.884816e-11</td>\n",
       "    </tr>\n",
       "    <tr>\n",
       "      <th>1000000000</th>\n",
       "      <td>1.356206e-04</td>\n",
       "      <td>2.119820e-05</td>\n",
       "      <td>1.382715e-01</td>\n",
       "      <td>2.567359e-07</td>\n",
       "      <td>2.030867e-06</td>\n",
       "    </tr>\n",
       "    <tr>\n",
       "      <th>8000000000</th>\n",
       "      <td>NaN</td>\n",
       "      <td>2.867850e-02</td>\n",
       "      <td>9.926027e-01</td>\n",
       "      <td>2.819268e-02</td>\n",
       "      <td>3.280273e-02</td>\n",
       "    </tr>\n",
       "  </tbody>\n",
       "</table>\n",
       "</div>"
      ],
      "text/plain": [
       "type            plain-js        tf-cpu       tf-wasm      tf-webgl   \n",
       "volume                                                               \n",
       "1000000     1.369649e-17  9.034100e-21  1.307299e-19  5.321905e-17  \\\n",
       "125000000   9.909291e-08  2.295846e-11  1.359756e-03  2.056285e-12   \n",
       "1000000000  1.356206e-04  2.119820e-05  1.382715e-01  2.567359e-07   \n",
       "8000000000           NaN  2.867850e-02  9.926027e-01  2.819268e-02   \n",
       "\n",
       "type           tf-webgpu  \n",
       "volume                    \n",
       "1000000     1.441621e-15  \n",
       "125000000   2.884816e-11  \n",
       "1000000000  2.030867e-06  \n",
       "8000000000  3.280273e-02  "
      ]
     },
     "execution_count": 80,
     "metadata": {},
     "output_type": "execute_result"
    }
   ],
   "source": [
    "data.pivot_table(values='times', index='volume', columns='type', aggfunc=lambda x: shapiro(x).pvalue)"
   ]
  },
  {
   "cell_type": "code",
   "execution_count": 121,
   "id": "a397e726",
   "metadata": {},
   "outputs": [
    {
     "data": {
      "text/html": [
       "<div>\n",
       "<style scoped>\n",
       "    .dataframe tbody tr th:only-of-type {\n",
       "        vertical-align: middle;\n",
       "    }\n",
       "\n",
       "    .dataframe tbody tr th {\n",
       "        vertical-align: top;\n",
       "    }\n",
       "\n",
       "    .dataframe thead th {\n",
       "        text-align: right;\n",
       "    }\n",
       "</style>\n",
       "<table border=\"1\" class=\"dataframe\">\n",
       "  <thead>\n",
       "    <tr style=\"text-align: right;\">\n",
       "      <th>type</th>\n",
       "      <th>plain-js</th>\n",
       "      <th>tf-cpu</th>\n",
       "      <th>tf-wasm</th>\n",
       "      <th>tf-webgl</th>\n",
       "      <th>tf-webgpu</th>\n",
       "    </tr>\n",
       "    <tr>\n",
       "      <th>volume</th>\n",
       "      <th></th>\n",
       "      <th></th>\n",
       "      <th></th>\n",
       "      <th></th>\n",
       "      <th></th>\n",
       "    </tr>\n",
       "  </thead>\n",
       "  <tbody>\n",
       "    <tr>\n",
       "      <th>1000000</th>\n",
       "      <td>100.0</td>\n",
       "      <td>100.0</td>\n",
       "      <td>100.0</td>\n",
       "      <td>100.0</td>\n",
       "      <td>100.0</td>\n",
       "    </tr>\n",
       "    <tr>\n",
       "      <th>125000000</th>\n",
       "      <td>70.0</td>\n",
       "      <td>70.0</td>\n",
       "      <td>70.0</td>\n",
       "      <td>70.0</td>\n",
       "      <td>70.0</td>\n",
       "    </tr>\n",
       "    <tr>\n",
       "      <th>1000000000</th>\n",
       "      <td>20.0</td>\n",
       "      <td>20.0</td>\n",
       "      <td>20.0</td>\n",
       "      <td>20.0</td>\n",
       "      <td>20.0</td>\n",
       "    </tr>\n",
       "    <tr>\n",
       "      <th>8000000000</th>\n",
       "      <td>NaN</td>\n",
       "      <td>5.0</td>\n",
       "      <td>5.0</td>\n",
       "      <td>5.0</td>\n",
       "      <td>5.0</td>\n",
       "    </tr>\n",
       "  </tbody>\n",
       "</table>\n",
       "</div>"
      ],
      "text/plain": [
       "type        plain-js  tf-cpu  tf-wasm  tf-webgl  tf-webgpu\n",
       "volume                                                    \n",
       "1000000        100.0   100.0    100.0     100.0      100.0\n",
       "125000000       70.0    70.0     70.0      70.0       70.0\n",
       "1000000000      20.0    20.0     20.0      20.0       20.0\n",
       "8000000000       NaN     5.0      5.0       5.0        5.0"
      ]
     },
     "execution_count": 121,
     "metadata": {},
     "output_type": "execute_result"
    }
   ],
   "source": [
    "data.pivot_table(values='times', index='volume', columns='type', aggfunc='count')"
   ]
  },
  {
   "cell_type": "markdown",
   "id": "66be8219",
   "metadata": {},
   "source": [
    "Выборки явно не из нормального распределения. Посмотрим среднее:"
   ]
  },
  {
   "cell_type": "code",
   "execution_count": 93,
   "id": "6d8e8220",
   "metadata": {},
   "outputs": [],
   "source": [
    "data['volume_log'] = np.log(data['volume'])"
   ]
  },
  {
   "cell_type": "code",
   "execution_count": 90,
   "id": "da4e851e",
   "metadata": {},
   "outputs": [
    {
     "data": {
      "text/html": [
       "<div>\n",
       "<style scoped>\n",
       "    .dataframe tbody tr th:only-of-type {\n",
       "        vertical-align: middle;\n",
       "    }\n",
       "\n",
       "    .dataframe tbody tr th {\n",
       "        vertical-align: top;\n",
       "    }\n",
       "\n",
       "    .dataframe thead th {\n",
       "        text-align: right;\n",
       "    }\n",
       "</style>\n",
       "<table border=\"1\" class=\"dataframe\">\n",
       "  <thead>\n",
       "    <tr style=\"text-align: right;\">\n",
       "      <th>type</th>\n",
       "      <th>plain-js</th>\n",
       "      <th>tf-cpu</th>\n",
       "      <th>tf-wasm</th>\n",
       "      <th>tf-webgl</th>\n",
       "      <th>tf-webgpu</th>\n",
       "    </tr>\n",
       "    <tr>\n",
       "      <th>volume</th>\n",
       "      <th></th>\n",
       "      <th></th>\n",
       "      <th></th>\n",
       "      <th></th>\n",
       "      <th></th>\n",
       "    </tr>\n",
       "  </thead>\n",
       "  <tbody>\n",
       "    <tr>\n",
       "      <th>1000000</th>\n",
       "      <td>6.687000</td>\n",
       "      <td>3.734000</td>\n",
       "      <td>0.847000</td>\n",
       "      <td>11.034000</td>\n",
       "      <td>6.049000</td>\n",
       "    </tr>\n",
       "    <tr>\n",
       "      <th>125000000</th>\n",
       "      <td>1316.085714</td>\n",
       "      <td>376.207143</td>\n",
       "      <td>34.672857</td>\n",
       "      <td>43.797143</td>\n",
       "      <td>30.061429</td>\n",
       "    </tr>\n",
       "    <tr>\n",
       "      <th>1000000000</th>\n",
       "      <td>16523.885000</td>\n",
       "      <td>2948.185000</td>\n",
       "      <td>194.170000</td>\n",
       "      <td>146.250000</td>\n",
       "      <td>127.485000</td>\n",
       "    </tr>\n",
       "    <tr>\n",
       "      <th>8000000000</th>\n",
       "      <td>NaN</td>\n",
       "      <td>24689.080000</td>\n",
       "      <td>1195.780000</td>\n",
       "      <td>720.320000</td>\n",
       "      <td>509.060000</td>\n",
       "    </tr>\n",
       "  </tbody>\n",
       "</table>\n",
       "</div>"
      ],
      "text/plain": [
       "type            plain-js        tf-cpu      tf-wasm    tf-webgl   tf-webgpu\n",
       "volume                                                                     \n",
       "1000000         6.687000      3.734000     0.847000   11.034000    6.049000\n",
       "125000000    1316.085714    376.207143    34.672857   43.797143   30.061429\n",
       "1000000000  16523.885000   2948.185000   194.170000  146.250000  127.485000\n",
       "8000000000           NaN  24689.080000  1195.780000  720.320000  509.060000"
      ]
     },
     "execution_count": 90,
     "metadata": {},
     "output_type": "execute_result"
    }
   ],
   "source": [
    "mean_table = data.pivot_table(values='times', index='volume', columns='type')\n",
    "mean_table"
   ]
  },
  {
   "cell_type": "code",
   "execution_count": 97,
   "id": "e8577c87",
   "metadata": {
    "scrolled": true
   },
   "outputs": [
    {
     "data": {
      "text/plain": [
       "<Axes: xlabel='volume_log'>"
      ]
     },
     "execution_count": 97,
     "metadata": {},
     "output_type": "execute_result"
    },
    {
     "data": {
      "image/png": "[encoded data removed]",
      "text/plain": [
       "<Figure size 640x480 with 1 Axes>"
      ]
     },
     "metadata": {},
     "output_type": "display_data"
    }
   ],
   "source": [
    "data.pivot_table(values='times', index='volume_log', columns='type').plot(grid=True)"
   ]
  },
  {
   "cell_type": "markdown",
   "id": "f95f8c07",
   "metadata": {},
   "source": [
    "Понятно, что можно разделить подходы на две группы: **основаннные на cpu** и **использующие ускоряющие технологии**. CPU безнадежно отстает в производительности. WebAssembly, WebGPU и WebGL требуют дальнейшего исследования. Посмотрим в логарифмическом масштабе."
   ]
  },
  {
   "cell_type": "code",
   "execution_count": 98,
   "id": "7e3894a7",
   "metadata": {},
   "outputs": [
    {
     "data": {
      "text/plain": [
       "<Axes: xlabel='volume_log'>"
      ]
     },
     "execution_count": 98,
     "metadata": {},
     "output_type": "execute_result"
    },
    {
     "data": {
      "image/png": "[encoded data removed]",
      "text/plain": [
       "<Figure size 640x480 with 1 Axes>"
      ]
     },
     "metadata": {},
     "output_type": "display_data"
    }
   ],
   "source": [
    "data.pivot_table(values='times', index='volume_log', columns='type').plot(grid=True, logy=True)"
   ]
  },
  {
   "cell_type": "markdown",
   "id": "281f25f3",
   "metadata": {},
   "source": [
    "Видим, что на малых объемах данных WebGPU и WebGL имеют более низкую относительную производительность. Это связано с оверхедом использования графической карты (перенос данных туда/обратно)"
   ]
  },
  {
   "cell_type": "markdown",
   "id": "9083da7a",
   "metadata": {},
   "source": [
    "Пристальнее посмотрим на ускоренные подходы:"
   ]
  },
  {
   "cell_type": "code",
   "execution_count": 122,
   "id": "ca53c1d5",
   "metadata": {},
   "outputs": [
    {
     "name": "stdout",
     "output_type": "stream",
     "text": [
      "env: RESULT_PATH=/Users/mplobanov/Downloads/diploma/results/more\n"
     ]
    }
   ],
   "source": [
    "%env RESULT_PATH=/Users/mplobanov/Downloads/diploma/results/more"
   ]
  },
  {
   "cell_type": "code",
   "execution_count": 123,
   "id": "0b966062",
   "metadata": {},
   "outputs": [],
   "source": [
    "PATH = environ['RESULT_PATH']\n",
    "onlyfiles = [f for f in listdir(PATH) if isfile(join(PATH, f))]"
   ]
  },
  {
   "cell_type": "code",
   "execution_count": 124,
   "id": "3d6731d6",
   "metadata": {},
   "outputs": [],
   "source": [
    "data_pieces = []\n",
    "for path in onlyfiles:\n",
    "    with open(f\"{PATH}/{path}\", 'r') as fin:\n",
    "        data = json.load(fin)\n",
    "        for key in ['N', 'M', 'K', 'type', 'trials']:\n",
    "            data[key] = [data[key] for _ in range(data['trials'])]\n",
    "        data_pieces.append(data)"
   ]
  },
  {
   "cell_type": "code",
   "execution_count": 125,
   "id": "689b9e44",
   "metadata": {},
   "outputs": [],
   "source": [
    "data = pd.concat([pd.DataFrame(piece) for piece in data_pieces])"
   ]
  },
  {
   "cell_type": "code",
   "execution_count": 126,
   "id": "89597760",
   "metadata": {},
   "outputs": [],
   "source": [
    "data = data.reset_index().drop(columns='index')"
   ]
  },
  {
   "cell_type": "code",
   "execution_count": 127,
   "id": "739270e3",
   "metadata": {},
   "outputs": [],
   "source": [
    "data['volume'] = data['N'] * data['M'] * data['K']"
   ]
  },
  {
   "cell_type": "code",
   "execution_count": 107,
   "id": "8cf97715",
   "metadata": {},
   "outputs": [],
   "source": [
    "data.to_csv('data/data2.csv')"
   ]
  },
  {
   "cell_type": "code",
   "execution_count": 131,
   "id": "1cc1002c",
   "metadata": {},
   "outputs": [
    {
     "data": {
      "text/plain": [
       "405.5999999642372"
      ]
     },
     "execution_count": 131,
     "metadata": {},
     "output_type": "execute_result"
    }
   ],
   "source": [
    "data.loc[0, 'times']"
   ]
  },
  {
   "cell_type": "code",
   "execution_count": 132,
   "id": "dca148c8",
   "metadata": {},
   "outputs": [],
   "source": [
    "data['volume_log'] = np.log(data['volume'])"
   ]
  },
  {
   "cell_type": "code",
   "execution_count": 133,
   "id": "3cac5fc2",
   "metadata": {},
   "outputs": [
    {
     "data": {
      "text/html": [
       "<div>\n",
       "<style scoped>\n",
       "    .dataframe tbody tr th:only-of-type {\n",
       "        vertical-align: middle;\n",
       "    }\n",
       "\n",
       "    .dataframe tbody tr th {\n",
       "        vertical-align: top;\n",
       "    }\n",
       "\n",
       "    .dataframe thead th {\n",
       "        text-align: right;\n",
       "    }\n",
       "</style>\n",
       "<table border=\"1\" class=\"dataframe\">\n",
       "  <thead>\n",
       "    <tr style=\"text-align: right;\">\n",
       "      <th>type</th>\n",
       "      <th>tf-wasm</th>\n",
       "      <th>tf-webgl</th>\n",
       "      <th>tf-webgpu</th>\n",
       "    </tr>\n",
       "    <tr>\n",
       "      <th>volume</th>\n",
       "      <th></th>\n",
       "      <th></th>\n",
       "      <th></th>\n",
       "    </tr>\n",
       "  </thead>\n",
       "  <tbody>\n",
       "    <tr>\n",
       "      <th>343000000</th>\n",
       "      <td>75.734</td>\n",
       "      <td>83.230</td>\n",
       "      <td>62.560</td>\n",
       "    </tr>\n",
       "    <tr>\n",
       "      <th>1000000000</th>\n",
       "      <td>189.450</td>\n",
       "      <td>137.394</td>\n",
       "      <td>119.898</td>\n",
       "    </tr>\n",
       "    <tr>\n",
       "      <th>2197000000</th>\n",
       "      <td>364.190</td>\n",
       "      <td>223.086</td>\n",
       "      <td>193.644</td>\n",
       "    </tr>\n",
       "    <tr>\n",
       "      <th>4096000000</th>\n",
       "      <td>641.606</td>\n",
       "      <td>341.194</td>\n",
       "      <td>305.602</td>\n",
       "    </tr>\n",
       "    <tr>\n",
       "      <th>8000000000</th>\n",
       "      <td>1146.542</td>\n",
       "      <td>694.236</td>\n",
       "      <td>481.706</td>\n",
       "    </tr>\n",
       "    <tr>\n",
       "      <th>12167000000</th>\n",
       "      <td>1768.962</td>\n",
       "      <td>763.502</td>\n",
       "      <td>678.838</td>\n",
       "    </tr>\n",
       "  </tbody>\n",
       "</table>\n",
       "</div>"
      ],
      "text/plain": [
       "type          tf-wasm  tf-webgl  tf-webgpu\n",
       "volume                                    \n",
       "343000000      75.734    83.230     62.560\n",
       "1000000000    189.450   137.394    119.898\n",
       "2197000000    364.190   223.086    193.644\n",
       "4096000000    641.606   341.194    305.602\n",
       "8000000000   1146.542   694.236    481.706\n",
       "12167000000  1768.962   763.502    678.838"
      ]
     },
     "execution_count": 133,
     "metadata": {},
     "output_type": "execute_result"
    }
   ],
   "source": [
    "mean_table = data.pivot_table(values='times', index='volume', columns='type')\n",
    "mean_table"
   ]
  },
  {
   "cell_type": "code",
   "execution_count": 135,
   "id": "a4363dee",
   "metadata": {},
   "outputs": [
    {
     "data": {
      "text/html": [
       "<div>\n",
       "<style scoped>\n",
       "    .dataframe tbody tr th:only-of-type {\n",
       "        vertical-align: middle;\n",
       "    }\n",
       "\n",
       "    .dataframe tbody tr th {\n",
       "        vertical-align: top;\n",
       "    }\n",
       "\n",
       "    .dataframe thead th {\n",
       "        text-align: right;\n",
       "    }\n",
       "</style>\n",
       "<table border=\"1\" class=\"dataframe\">\n",
       "  <thead>\n",
       "    <tr style=\"text-align: right;\">\n",
       "      <th>type</th>\n",
       "      <th>tf-wasm</th>\n",
       "      <th>tf-webgl</th>\n",
       "      <th>tf-webgpu</th>\n",
       "    </tr>\n",
       "    <tr>\n",
       "      <th>volume</th>\n",
       "      <th></th>\n",
       "      <th></th>\n",
       "      <th></th>\n",
       "    </tr>\n",
       "  </thead>\n",
       "  <tbody>\n",
       "    <tr>\n",
       "      <th>343000000</th>\n",
       "      <td>50</td>\n",
       "      <td>50</td>\n",
       "      <td>50</td>\n",
       "    </tr>\n",
       "    <tr>\n",
       "      <th>1000000000</th>\n",
       "      <td>50</td>\n",
       "      <td>50</td>\n",
       "      <td>50</td>\n",
       "    </tr>\n",
       "    <tr>\n",
       "      <th>2197000000</th>\n",
       "      <td>50</td>\n",
       "      <td>50</td>\n",
       "      <td>50</td>\n",
       "    </tr>\n",
       "    <tr>\n",
       "      <th>4096000000</th>\n",
       "      <td>50</td>\n",
       "      <td>50</td>\n",
       "      <td>50</td>\n",
       "    </tr>\n",
       "    <tr>\n",
       "      <th>8000000000</th>\n",
       "      <td>50</td>\n",
       "      <td>50</td>\n",
       "      <td>50</td>\n",
       "    </tr>\n",
       "    <tr>\n",
       "      <th>12167000000</th>\n",
       "      <td>50</td>\n",
       "      <td>50</td>\n",
       "      <td>50</td>\n",
       "    </tr>\n",
       "  </tbody>\n",
       "</table>\n",
       "</div>"
      ],
      "text/plain": [
       "type         tf-wasm  tf-webgl  tf-webgpu\n",
       "volume                                   \n",
       "343000000         50        50         50\n",
       "1000000000        50        50         50\n",
       "2197000000        50        50         50\n",
       "4096000000        50        50         50\n",
       "8000000000        50        50         50\n",
       "12167000000       50        50         50"
      ]
     },
     "execution_count": 135,
     "metadata": {},
     "output_type": "execute_result"
    }
   ],
   "source": [
    "data.pivot_table(values='times', index='volume', columns='type', aggfunc='count')"
   ]
  },
  {
   "cell_type": "code",
   "execution_count": 111,
   "id": "1de3d676",
   "metadata": {
    "scrolled": true
   },
   "outputs": [
    {
     "data": {
      "text/plain": [
       "<Axes: xlabel='volume'>"
      ]
     },
     "execution_count": 111,
     "metadata": {},
     "output_type": "execute_result"
    },
    {
     "data": {
      "image/png": "[encoded data removed]",
      "text/plain": [
       "<Figure size 640x480 with 1 Axes>"
      ]
     },
     "metadata": {},
     "output_type": "display_data"
    }
   ],
   "source": [
    "data.pivot_table(values='times', index='volume', columns='type').plot(grid=True, logx=True)"
   ]
  },
  {
   "cell_type": "code",
   "execution_count": 112,
   "id": "732ed411",
   "metadata": {},
   "outputs": [
    {
     "data": {
      "text/plain": [
       "<Axes: xlabel='volume'>"
      ]
     },
     "execution_count": 112,
     "metadata": {},
     "output_type": "execute_result"
    },
    {
     "data": {
      "image/png": "[encoded data removed]",
      "text/plain": [
       "<Figure size 640x480 with 1 Axes>"
      ]
     },
     "metadata": {},
     "output_type": "display_data"
    }
   ],
   "source": [
    "data.pivot_table(values='times', index='volume', columns='type').plot(grid=True, loglog=True)"
   ]
  },
  {
   "cell_type": "markdown",
   "id": "2798533e",
   "metadata": {},
   "source": [
    "Можем сделать вывод, что WebGL и WebGPU имеют некоторый оверхед, но эффективнее на больших данных. WebAssembly показывает низкий оверхед, но и менее производителен."
   ]
  },
  {
   "cell_type": "code",
   "execution_count": 136,
   "id": "82d91b7c",
   "metadata": {},
   "outputs": [],
   "source": [
    "from scipy.stats import mannwhitneyu"
   ]
  },
  {
   "cell_type": "code",
   "execution_count": 141,
   "id": "6f79323a",
   "metadata": {},
   "outputs": [],
   "source": [
    "get_sample = lambda engine, size: data[np.logical_and(data['type'] == engine, data['N'] == size)]['times']"
   ]
  },
  {
   "cell_type": "code",
   "execution_count": 154,
   "id": "ba6fdcd6",
   "metadata": {},
   "outputs": [
    {
     "name": "stdout",
     "output_type": "stream",
     "text": [
      "Size = 700, 5.978914224436698e-13\n",
      "Size = 1000, 1.8957598454209575e-13\n",
      "Size = 1300, 3.3778956718904325e-16\n",
      "Size = 1600, 1.4269311057245712e-16\n",
      "Size = 2000, 7.062885236832336e-18\n",
      "Size = 2300, 6.685229827250931e-16\n"
     ]
    }
   ],
   "source": [
    "for size in np.sort(data['N'].unique()):\n",
    "    print(f\"Size = {size}, {mannwhitneyu(get_sample('tf-webgpu', size), get_sample('tf-webgl', size)).pvalue}\")"
   ]
  },
  {
   "cell_type": "code",
   "execution_count": 155,
   "id": "4bcd4d03",
   "metadata": {},
   "outputs": [],
   "source": [
    "from scipy.stats import ranksums"
   ]
  },
  {
   "cell_type": "code",
   "execution_count": 156,
   "id": "f1400668",
   "metadata": {},
   "outputs": [
    {
     "name": "stdout",
     "output_type": "stream",
     "text": [
      "Size = 700, 5.845344687756845e-13\n",
      "Size = 1000, 1.8508119437323456e-13\n",
      "Size = 1300, 3.287515693468304e-16\n",
      "Size = 1600, 1.388890058422927e-16\n",
      "Size = 2000, 6.856641447475644e-18\n",
      "Size = 2300, 6.500252974712035e-16\n"
     ]
    }
   ],
   "source": [
    "for size in np.sort(data['N'].unique()):\n",
    "    print(f\"Size = {size}, {ranksums(get_sample('tf-webgpu', size), get_sample('tf-webgl', size)).pvalue}\")"
   ]
  }
 ],
 "metadata": {
  "kernelspec": {
   "display_name": "Python 3 (ipykernel)",
   "language": "python",
   "name": "python3"
  },
  "language_info": {
   "codemirror_mode": {
    "name": "ipython",
    "version": 3
   },
   "file_extension": ".py",
   "mimetype": "text/x-python",
   "name": "python",
   "nbconvert_exporter": "python",
   "pygments_lexer": "ipython3",
   "version": "3.11.3"
  }
 },
 "nbformat": 4,
 "nbformat_minor": 5
}
