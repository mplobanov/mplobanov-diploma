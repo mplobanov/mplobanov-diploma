{
 "cells": [
  {
   "cell_type": "markdown",
   "metadata": {},
   "source": [
    "# Обработка данных вендоров мобильных устройств"
   ]
  },
  {
   "cell_type": "code",
   "execution_count": 1,
   "metadata": {},
   "outputs": [],
   "source": [
    "import pandas as pd"
   ]
  },
  {
   "cell_type": "code",
   "execution_count": 4,
   "metadata": {},
   "outputs": [],
   "source": [
    "data = pd.read_csv('/Users/mplobanov/Downloads/diploma/vendor-ww-monthly-202204-202304.csv', index_col=\"Date\")"
   ]
  },
  {
   "cell_type": "code",
   "execution_count": 7,
   "metadata": {},
   "outputs": [
    {
     "data": {
      "text/plain": [
       "Apple             27.10\n",
       "Samsung           26.75\n",
       "Xiaomi            12.29\n",
       "Oppo               6.86\n",
       "Huawei             4.84\n",
       "Vivo               5.30\n",
       "Realme             4.03\n",
       "Unknown            3.14\n",
       "Motorola           2.28\n",
       "OnePlus            1.22\n",
       "Tecno              1.06\n",
       "Infinix            1.15\n",
       "LG                 0.64\n",
       "Google             0.76\n",
       "Nokia              0.45\n",
       "Lenovo             0.29\n",
       "Sony               0.24\n",
       "Itel               0.26\n",
       "Asus               0.17\n",
       "General Mobile     0.06\n",
       "ZTE                0.10\n",
       "Honor              0.12\n",
       "Alcatel            0.07\n",
       "HTC                0.05\n",
       "Infinex            0.08\n",
       "BBK                0.08\n",
       "Casper             0.03\n",
       "T-Mobile           0.04\n",
       "TCL                0.05\n",
       "Reeder             0.04\n",
       "Vestel             0.02\n",
       "Lava               0.02\n",
       "Vsmart             0.05\n",
       "Meizu              0.02\n",
       "Gionee             0.01\n",
       "Micromax           0.02\n",
       "Hisense            0.02\n",
       "Sharp              0.01\n",
       "Vodafone           0.01\n",
       "Kyocera            0.01\n",
       "Wiko               0.01\n",
       "Jio                0.02\n",
       "Mixc               0.01\n",
       "CAT                0.01\n",
       "Other              0.16\n",
       "Name: 2023-02, dtype: float64"
      ]
     },
     "execution_count": 7,
     "metadata": {},
     "output_type": "execute_result"
    }
   ],
   "source": [
    "data.loc['2023-02']"
   ]
  },
  {
   "cell_type": "code",
   "execution_count": null,
   "metadata": {},
   "outputs": [],
   "source": []
  }
 ],
 "metadata": {
  "kernelspec": {
   "display_name": "Python 3 (ipykernel)",
   "language": "python",
   "name": "python3"
  },
  "language_info": {
   "codemirror_mode": {
    "name": "ipython",
    "version": 3
   },
   "file_extension": ".py",
   "mimetype": "text/x-python",
   "name": "python",
   "nbconvert_exporter": "python",
   "pygments_lexer": "ipython3",
   "version": "3.11.3"
  }
 },
 "nbformat": 4,
 "nbformat_minor": 2
}
